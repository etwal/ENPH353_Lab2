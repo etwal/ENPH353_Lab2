{
  "cells": [
    {
      "cell_type": "markdown",
      "metadata": {
        "id": "view-in-github",
        "colab_type": "text"
      },
      "source": [
        "<a href=\"https://colab.research.google.com/github/etwal/ENPH353_Lab2/blob/main/ENPH353_Lab2.ipynb\" target=\"_parent\"><img src=\"https://colab.research.google.com/assets/colab-badge.svg\" alt=\"Open In Colab\"/></a>"
      ]
    },
    {
      "cell_type": "code",
      "execution_count": null,
      "metadata": {
        "colab": {
          "base_uri": "https://localhost:8080/"
        },
        "id": "GSDtptJa8trp",
        "outputId": "6e96f185-da0f-4ce9-bb97-8703a5630e45"
      },
      "outputs": [
        {
          "output_type": "stream",
          "name": "stdout",
          "text": [
            "Drive already mounted at /content/drive; to attempt to forcibly remount, call drive.mount(\"/content/drive\", force_remount=True).\n"
          ]
        }
      ],
      "source": [
        "# from google.colab import drive\n",
        "# drive.mount('/content/drive')\n",
        "\n"
      ]
    },
    {
      "cell_type": "code",
      "execution_count": null,
      "metadata": {
        "colab": {
          "base_uri": "https://localhost:8080/"
        },
        "id": "AlLD-0BwBuQj",
        "outputId": "1fa35388-753c-4e36-c549-a60811c53e14"
      },
      "outputs": [
        {
          "output_type": "stream",
          "name": "stdout",
          "text": [
            "['/content/drive/MyDrive/Lab2/raw_video_feed.mp4']\n"
          ]
        }
      ],
      "source": [
        "# PATH = \"/content/drive/MyDrive/Lab2/raw_video_feed.mp4\"\n",
        "# labels = !ls \"{PATH}\"\n",
        "# labels = labels[0].split()\n",
        "# print(labels)"
      ]
    },
    {
      "cell_type": "code",
      "execution_count": null,
      "metadata": {
        "id": "SznCAv9DEPJx"
      },
      "outputs": [],
      "source": [
        "# import cv2\n",
        "# cv2.__version__\n",
        "# import numpy as np\n",
        "\n",
        "# from google.colab.patches import cv2_imshow"
      ]
    },
    {
      "cell_type": "code",
      "execution_count": null,
      "metadata": {
        "colab": {
          "base_uri": "https://localhost:8080/"
        },
        "id": "E5N6gMNudleK",
        "outputId": "13bc7c66-4239-43bd-ce38-38e23432cace"
      },
      "outputs": [
        {
          "output_type": "stream",
          "name": "stdout",
          "text": [
            "Cant receive frame\n"
          ]
        }
      ],
      "source": [
        "# cap = cv2.VideoCapture(PATH)\n",
        "\n",
        "# if not cap.isOpened():\n",
        "#   print(\"Error: Vid cap could not be opened\")\n",
        "# else:\n",
        "#   frame_width = int(cap.get(3))\n",
        "#   frame_height = int(cap.get(4))\n",
        "\n",
        "# output_vid_path = \"/content/drive/MyDrive/Lab2/videoxz.mp4\"\n",
        "# fourcc = cv2.VideoWriter_fourcc(*'mp4v')\n",
        "# out = cv2.VideoWriter(output_vid_path, fourcc, 30, (frame_width, frame_height))\n",
        "\n",
        "# while True:\n",
        "#   ret, frame = cap.read()\n",
        "#   if not ret:\n",
        "#    print(\"Cant receive frame\")\n",
        "#    break\n",
        "\n",
        "#   # Convert the frame to HSV color space\n",
        "\n",
        "#   hsv_frame = cv2.cvtColor(frame, cv2.COLOR_BGR2HSV)\n",
        "\n",
        "# # Define the lower and upper HSV thresholds for the road color\n",
        "#   lower_color = np.array([25, 25, 25], dtype=np.uint8)\n",
        "#   upper_color = np.array([200, 200, 200], dtype=np.uint8)\n",
        "# # Create a binary mask based on the color thresholds\n",
        "#   mask = cv2.inRange(hsv_frame, lower_color, upper_color)\n",
        "\n",
        "# # Apply the mask to the original frame\n",
        "#   masked_frame = cv2.bitwise_and(frame, frame, mask=mask)\n",
        "#   gray_masked_frame = cv2.cvtColor(masked_frame, cv2.COLOR_BGR2GRAY)\n",
        "\n",
        "#   contours, _ = cv2.findContours(gray_masked_frame, cv2.RETR_EXTERNAL, cv2.CHAIN_APPROX_SIMPLE)\n",
        "#   largest_contour = None\n",
        "#   road_center = None\n",
        "#   for contour in contours:\n",
        "#     if largest_contour is None or cv2.contourArea(contour) > cv2.contourArea(largest_contour):\n",
        "#       largest_contour = contour\n",
        "\n",
        "#   if largest_contour is not None:\n",
        "#     M = cv2.moments(largest_contour)\n",
        "#     if M[\"m00\"] != 0:\n",
        "#        cx = int(M[\"m10\"] / M[\"m00\"])\n",
        "#        cy = int(M[\"m01\"] / M[\"m00\"])\n",
        "#        road_center = (cx, cy)\n",
        "\n",
        "#     circle_radius = 20  # Adjust as needed\n",
        "#     circle_image = np.zeros_like(frame)\n",
        "#     cv2.circle(circle_image, road_center, circle_radius, (0, 0, 255), -1)  # Red circle\n",
        "#     result = cv2.addWeighted(frame, 1, circle_image, 0.7, 0)  # Adjust alpha for transparency\n",
        "\n",
        "#     #cv2_imshow(result)\n",
        "#     out.write(result)\n",
        "\n",
        "# cap.release()\n",
        "# out.release()\n",
        "# cv2.destroyAllWindows()\n",
        "\n",
        "\n"
      ]
    },
    {
      "cell_type": "code",
      "execution_count": null,
      "metadata": {
        "id": "rE_qlztTc5Ff"
      },
      "outputs": [],
      "source": []
    }
  ],
  "metadata": {
    "colab": {
      "provenance": [],
      "authorship_tag": "ABX9TyMvCUacCNvVCFD1hEglMdyS",
      "include_colab_link": true
    },
    "kernelspec": {
      "display_name": "Python 3",
      "name": "python3"
    },
    "language_info": {
      "name": "python"
    }
  },
  "nbformat": 4,
  "nbformat_minor": 0
}